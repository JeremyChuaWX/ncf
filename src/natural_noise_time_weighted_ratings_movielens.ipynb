{
 "cells": [
  {
   "cell_type": "code",
   "execution_count": 15,
   "metadata": {},
   "outputs": [],
   "source": [
    "#Importing necessary libraries\n",
    "import pandas as pd\n",
    "import numpy as np\n",
    "import math\n",
    "import matplotlib.pyplot as plt\n",
    "from datetime import datetime\n",
    "import zipfile\n",
    "# Load Data\n",
    "ml1m_dir = \"./data/processed/movielens1m_natural_noise_ratings.csv\"\n",
    "ml1m_rating = pd.read_csv(ml1m_dir, sep=',',  engine='python')\n",
    "df = ml1m_rating\n"
   ]
  },
  {
   "cell_type": "code",
   "execution_count": 13,
   "metadata": {},
   "outputs": [
    {
     "ename": "NameError",
     "evalue": "name 'zipfile' is not defined",
     "output_type": "error",
     "traceback": [
      "\u001b[1;31m---------------------------------------------------------------------------\u001b[0m",
      "\u001b[1;31mNameError\u001b[0m                                 Traceback (most recent call last)",
      "\u001b[1;32mc:\\Users\\chews\\Downloads\\BT4222 Code - Copy\\natural_noise_time_weighted_ratings_movielens.ipynb Cell 2\u001b[0m line \u001b[0;36m6\n\u001b[0;32m      <a href='vscode-notebook-cell:/c%3A/Users/chews/Downloads/BT4222%20Code%20-%20Copy/natural_noise_time_weighted_ratings_movielens.ipynb#X15sZmlsZQ%3D%3D?line=2'>3</a>\u001b[0m csv_file_name \u001b[39m=\u001b[39m \u001b[39m'\u001b[39m\u001b[39mmovielens1m_natural_noise_ratings.csv\u001b[39m\u001b[39m'\u001b[39m\n\u001b[0;32m      <a href='vscode-notebook-cell:/c%3A/Users/chews/Downloads/BT4222%20Code%20-%20Copy/natural_noise_time_weighted_ratings_movielens.ipynb#X15sZmlsZQ%3D%3D?line=4'>5</a>\u001b[0m \u001b[39m# Extract the CSV file from the ZIP archive\u001b[39;00m\n\u001b[1;32m----> <a href='vscode-notebook-cell:/c%3A/Users/chews/Downloads/BT4222%20Code%20-%20Copy/natural_noise_time_weighted_ratings_movielens.ipynb#X15sZmlsZQ%3D%3D?line=5'>6</a>\u001b[0m \u001b[39mwith\u001b[39;00m zipfile\u001b[39m.\u001b[39mZipFile(zip_file_path, \u001b[39m'\u001b[39m\u001b[39mr\u001b[39m\u001b[39m'\u001b[39m) \u001b[39mas\u001b[39;00m zip_ref:\n\u001b[0;32m      <a href='vscode-notebook-cell:/c%3A/Users/chews/Downloads/BT4222%20Code%20-%20Copy/natural_noise_time_weighted_ratings_movielens.ipynb#X15sZmlsZQ%3D%3D?line=6'>7</a>\u001b[0m     zip_ref\u001b[39m.\u001b[39mextract(csv_file_name, \u001b[39m'\u001b[39m\u001b[39m./data/processed\u001b[39m\u001b[39m'\u001b[39m)\n",
      "\u001b[1;31mNameError\u001b[0m: name 'zipfile' is not defined"
     ]
    }
   ],
   "source": [
    "#importing the required modules\n",
    "zip_file_path = './data/processed/movielens1m_natural_noise_ratings.zip'\n",
    "csv_file_name = 'movielens1m_natural_noise_ratings.csv'\n",
    "\n",
    "# Extract the CSV file from the ZIP archive\n",
    "with zipfile.ZipFile(zip_file_path, 'r') as zip_ref:\n",
    "    zip_ref.extract(csv_file_name, './data/processed')  # Specify the path to extract the CSV file\n"
   ]
  },
  {
   "cell_type": "code",
   "execution_count": 14,
   "metadata": {},
   "outputs": [
    {
     "name": "stdout",
     "output_type": "stream",
     "text": [
      "Note: you may need to restart the kernel to use updated packages.\n"
     ]
    },
    {
     "name": "stderr",
     "output_type": "stream",
     "text": [
      "ERROR: Could not find a version that satisfies the requirement zipfile (from versions: none)\n",
      "ERROR: No matching distribution found for zipfile\n"
     ]
    }
   ],
   "source": [
    "pip install zipfile"
   ]
  },
  {
   "cell_type": "code",
   "execution_count": null,
   "metadata": {},
   "outputs": [],
   "source": [
    "## Code below is the same as per time_weighted_movielens1m.ipynb\n",
    "# This code basically conducts time weighting of ratings after the filter of natural noise out of the ratings"
   ]
  },
  {
   "cell_type": "code",
   "execution_count": null,
   "metadata": {},
   "outputs": [],
   "source": [
    "#Function to find the number of days between 2 dates\n",
    "def days_difference(date1, date2):\n",
    "\n",
    "    # Convert string dates to datetime objects\n",
    "    date1 = datetime.strptime(date1, '%Y-%m-%d')\n",
    "    date2 = datetime.strptime(date2, '%Y-%m-%d')\n",
    "\n",
    "    # Calculate the difference in days\n",
    "    difference = -(date2 - date1).days\n",
    "\n",
    "    return difference\n",
    "\n",
    "# Function to convert number of days to years\n",
    "def days_to_year(days):\n",
    "  return days/365\n",
    "\n",
    "## A basic logistic function - Used later to help derive time-decayed ratings\n",
    "def logistic(tu_c):\n",
    "    exponent = -tu_c\n",
    "    denominator = 1 + math.exp(exponent)\n",
    "    result = 1 / denominator\n",
    "    return result"
   ]
  },
  {
   "cell_type": "code",
   "execution_count": null,
   "metadata": {},
   "outputs": [],
   "source": [
    "# Defining a couple of required dates to help derive time-weighted ratings\n",
    "# Purpose explained in future paragraphs below\n",
    "max_review_date = df['date'].max()\n",
    "min_review_date = df['date'].min()\n",
    "\n",
    "date_max = datetime.strptime(max_review_date, \"%Y-%m-%d\")\n",
    "date_min = datetime.strptime(min_review_date, \"%Y-%m-%d\")\n",
    "\n",
    "midpoint_date = (date_min + (date_max - date_min) / 2).strftime(\"%Y-%m-%d\")\n",
    "diff_max_midpoint = days_to_year(days_difference(max_review_date,midpoint_date))\n",
    "diff_min_midpoint = days_to_year(days_difference(min_review_date,midpoint_date))"
   ]
  },
  {
   "cell_type": "code",
   "execution_count": null,
   "metadata": {},
   "outputs": [],
   "source": [
    "#Finding the \"maximum\"/latest date among all Movielens reviews\n",
    "max_review_date\n",
    "\n",
    "# date_max - Converts max_review_date to datetime format"
   ]
  },
  {
   "cell_type": "code",
   "execution_count": null,
   "metadata": {},
   "outputs": [],
   "source": [
    "#Finding the \"minimum\"/earliest date among all Movielens reviews\n",
    "min_review_date\n",
    "\n",
    "# date_min - Converts min_review_date to datetime format"
   ]
  },
  {
   "cell_type": "code",
   "execution_count": null,
   "metadata": {},
   "outputs": [],
   "source": [
    "#Find the middle date between max_review_date and min_review_date\n",
    "midpoint_date"
   ]
  },
  {
   "cell_type": "code",
   "execution_count": null,
   "metadata": {},
   "outputs": [],
   "source": [
    "#Find the days difference between the maximum date and the midpoint date\n",
    "diff_max_midpoint"
   ]
  },
  {
   "cell_type": "code",
   "execution_count": null,
   "metadata": {},
   "outputs": [],
   "source": [
    "#Find the days difference between the minimum date and the midpoint date\n",
    "diff_min_midpoint"
   ]
  },
  {
   "cell_type": "code",
   "execution_count": null,
   "metadata": {},
   "outputs": [],
   "source": [
    "#Function to help normalise the time(in years) of each rating from the midpoint_date\n",
    "#to the range [-1,1]\n",
    "#Used to transform the years from middle date into input into the logistic function\n",
    "def normalised(year,max_range_to_set=1,min_range_to_set=-1):\n",
    "  max = diff_max_midpoint\n",
    "  min = diff_min_midpoint\n",
    "  normalised_value = (  (max_range_to_set-min_range_to_set)*((year-min)/(max-min))  )  + min_range_to_set\n",
    "  return normalised_value\n"
   ]
  },
  {
   "cell_type": "code",
   "execution_count": null,
   "metadata": {},
   "outputs": [],
   "source": [
    "# For each rating, find out the years this particular rating is rated from the midpoint_date\n",
    "df['years_from_midpoint'] = df.apply(lambda row: days_to_year(days_difference(row['date'],midpoint_date)),axis=1)\n",
    "\n",
    "# Normalised the years from midpoint date to a range [-1,1]\n",
    "df[\"normalised_year_from_midpoint\"] =  df.apply(lambda row: normalised(row['years_from_midpoint']),axis=1)\n",
    "\n",
    "# Calculate the time weight of the ratings\n",
    "df['time_weight'] = df.apply(lambda row: logistic(row['normalised_year_from_midpoint']),axis=1)\n",
    "\n",
    "# Weigh the ratings by its time weight to derive the time-weighted ratings\n",
    "df['time_weighted_rating'] = df['time_weight']*df['rating']"
   ]
  },
  {
   "cell_type": "code",
   "execution_count": null,
   "metadata": {},
   "outputs": [],
   "source": [
    "tu_c_values = np.linspace(diff_min_midpoint, diff_max_midpoint, 100)\n",
    "\n",
    "normalised_values = [normalised(tu_c) for tu_c in tu_c_values]\n",
    "# Calculate logistic function for each tu_c value\n",
    "logistic_values = [logistic(n_v) for n_v in normalised_values]\n",
    "\n",
    "# Plot the logistic function that is normalised for better understanding\n",
    "plt.plot(tu_c_values, logistic_values)\n",
    "plt.title('Weights attached to each rating')\n",
    "plt.xlabel('Years elapsed from the midpoint date of all ratings')\n",
    "plt.ylabel('Weights')\n",
    "plt.grid(True)\n",
    "plt.show()\n",
    "\n",
    "#Save figure and data\n",
    "plt.savefig('time_weighted_rating_movielens1m.png')\n",
    "df.to_csv('time_weighted_rating_movielens1m.csv', index=False)"
   ]
  }
 ],
 "metadata": {
  "kernelspec": {
   "display_name": "base",
   "language": "python",
   "name": "python3"
  },
  "language_info": {
   "codemirror_mode": {
    "name": "ipython",
    "version": 3
   },
   "file_extension": ".py",
   "mimetype": "text/x-python",
   "name": "python",
   "nbconvert_exporter": "python",
   "pygments_lexer": "ipython3",
   "version": "3.10.9"
  }
 },
 "nbformat": 4,
 "nbformat_minor": 2
}
