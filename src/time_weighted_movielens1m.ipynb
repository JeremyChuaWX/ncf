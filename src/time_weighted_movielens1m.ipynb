{
 "cells": [
  {
   "cell_type": "code",
   "execution_count": 1,
   "metadata": {},
   "outputs": [],
   "source": [
    "#Importing necessary libraries\n",
    "import pandas as pd\n",
    "import numpy as np\n",
    "import math\n",
    "import matplotlib.pyplot as plt\n",
    "from datetime import datetime\n",
    "# Loading Data\n",
    "ml1m_dir = \"./data/raw/ratings.dat\"\n",
    "ml1m_rating = pd.read_csv(ml1m_dir, sep='::', header=None, names=['uid', 'mid', 'rating', 'timestamp'],  engine='python')\n"
   ]
  },
  {
   "cell_type": "code",
   "execution_count": 2,
   "metadata": {},
   "outputs": [],
   "source": [
    "# Reindex and cleaning data to accurate format\n",
    "user_id = ml1m_rating[['uid']].drop_duplicates().reindex()\n",
    "user_id['userId'] = np.arange(len(user_id))\n",
    "ml1m_rating = pd.merge(ml1m_rating, user_id, on=['uid'], how='left')\n",
    "item_id = ml1m_rating[['mid']].drop_duplicates()\n",
    "item_id['itemId'] = np.arange(len(item_id))\n",
    "ml1m_rating = pd.merge(ml1m_rating, item_id, on=['mid'], how='left')\n",
    "ml1m_rating = ml1m_rating[['userId', 'itemId', 'rating', 'timestamp']]\n"
   ]
  },
  {
   "cell_type": "code",
   "execution_count": 3,
   "metadata": {},
   "outputs": [],
   "source": [
    "# Convert the timestamp column to a datetime object\n",
    "ml1m_rating['date'] = pd.to_datetime(ml1m_rating['timestamp'], unit='s')  # Assuming Unix timestamp in seconds\n",
    "ml1m_rating['date'] = ml1m_rating['date'].dt.strftime('%Y-%m-%d')\n",
    "df=ml1m_rating\n"
   ]
  },
  {
   "cell_type": "code",
   "execution_count": 4,
   "metadata": {},
   "outputs": [
    {
     "data": {
      "text/html": [
       "<div>\n",
       "<style scoped>\n",
       "    .dataframe tbody tr th:only-of-type {\n",
       "        vertical-align: middle;\n",
       "    }\n",
       "\n",
       "    .dataframe tbody tr th {\n",
       "        vertical-align: top;\n",
       "    }\n",
       "\n",
       "    .dataframe thead th {\n",
       "        text-align: right;\n",
       "    }\n",
       "</style>\n",
       "<table border=\"1\" class=\"dataframe\">\n",
       "  <thead>\n",
       "    <tr style=\"text-align: right;\">\n",
       "      <th></th>\n",
       "      <th>userId</th>\n",
       "      <th>itemId</th>\n",
       "      <th>rating</th>\n",
       "      <th>timestamp</th>\n",
       "      <th>date</th>\n",
       "    </tr>\n",
       "  </thead>\n",
       "  <tbody>\n",
       "    <tr>\n",
       "      <th>0</th>\n",
       "      <td>0</td>\n",
       "      <td>0</td>\n",
       "      <td>5</td>\n",
       "      <td>978300760</td>\n",
       "      <td>2000-12-31</td>\n",
       "    </tr>\n",
       "    <tr>\n",
       "      <th>1</th>\n",
       "      <td>0</td>\n",
       "      <td>1</td>\n",
       "      <td>3</td>\n",
       "      <td>978302109</td>\n",
       "      <td>2000-12-31</td>\n",
       "    </tr>\n",
       "    <tr>\n",
       "      <th>2</th>\n",
       "      <td>0</td>\n",
       "      <td>2</td>\n",
       "      <td>3</td>\n",
       "      <td>978301968</td>\n",
       "      <td>2000-12-31</td>\n",
       "    </tr>\n",
       "    <tr>\n",
       "      <th>3</th>\n",
       "      <td>0</td>\n",
       "      <td>3</td>\n",
       "      <td>4</td>\n",
       "      <td>978300275</td>\n",
       "      <td>2000-12-31</td>\n",
       "    </tr>\n",
       "    <tr>\n",
       "      <th>4</th>\n",
       "      <td>0</td>\n",
       "      <td>4</td>\n",
       "      <td>5</td>\n",
       "      <td>978824291</td>\n",
       "      <td>2001-01-06</td>\n",
       "    </tr>\n",
       "    <tr>\n",
       "      <th>...</th>\n",
       "      <td>...</td>\n",
       "      <td>...</td>\n",
       "      <td>...</td>\n",
       "      <td>...</td>\n",
       "      <td>...</td>\n",
       "    </tr>\n",
       "    <tr>\n",
       "      <th>1000204</th>\n",
       "      <td>6039</td>\n",
       "      <td>772</td>\n",
       "      <td>1</td>\n",
       "      <td>956716541</td>\n",
       "      <td>2000-04-26</td>\n",
       "    </tr>\n",
       "    <tr>\n",
       "      <th>1000205</th>\n",
       "      <td>6039</td>\n",
       "      <td>1106</td>\n",
       "      <td>5</td>\n",
       "      <td>956704887</td>\n",
       "      <td>2000-04-25</td>\n",
       "    </tr>\n",
       "    <tr>\n",
       "      <th>1000206</th>\n",
       "      <td>6039</td>\n",
       "      <td>365</td>\n",
       "      <td>5</td>\n",
       "      <td>956704746</td>\n",
       "      <td>2000-04-25</td>\n",
       "    </tr>\n",
       "    <tr>\n",
       "      <th>1000207</th>\n",
       "      <td>6039</td>\n",
       "      <td>152</td>\n",
       "      <td>4</td>\n",
       "      <td>956715648</td>\n",
       "      <td>2000-04-26</td>\n",
       "    </tr>\n",
       "    <tr>\n",
       "      <th>1000208</th>\n",
       "      <td>6039</td>\n",
       "      <td>26</td>\n",
       "      <td>4</td>\n",
       "      <td>956715569</td>\n",
       "      <td>2000-04-26</td>\n",
       "    </tr>\n",
       "  </tbody>\n",
       "</table>\n",
       "<p>1000209 rows × 5 columns</p>\n",
       "</div>"
      ],
      "text/plain": [
       "         userId  itemId  rating  timestamp        date\n",
       "0             0       0       5  978300760  2000-12-31\n",
       "1             0       1       3  978302109  2000-12-31\n",
       "2             0       2       3  978301968  2000-12-31\n",
       "3             0       3       4  978300275  2000-12-31\n",
       "4             0       4       5  978824291  2001-01-06\n",
       "...         ...     ...     ...        ...         ...\n",
       "1000204    6039     772       1  956716541  2000-04-26\n",
       "1000205    6039    1106       5  956704887  2000-04-25\n",
       "1000206    6039     365       5  956704746  2000-04-25\n",
       "1000207    6039     152       4  956715648  2000-04-26\n",
       "1000208    6039      26       4  956715569  2000-04-26\n",
       "\n",
       "[1000209 rows x 5 columns]"
      ]
     },
     "execution_count": 4,
     "metadata": {},
     "output_type": "execute_result"
    }
   ],
   "source": [
    "#df - Dataframe of our movielens dataset for processing\n",
    "df"
   ]
  },
  {
   "cell_type": "code",
   "execution_count": 5,
   "metadata": {},
   "outputs": [],
   "source": [
    "#Function to find the number of days between 2 dates\n",
    "def days_difference(date1, date2):\n",
    "\n",
    "    # Convert string dates to datetime objects\n",
    "    date1 = datetime.strptime(date1, '%Y-%m-%d')\n",
    "    date2 = datetime.strptime(date2, '%Y-%m-%d')\n",
    "\n",
    "    # Calculate the difference in days\n",
    "    difference = -(date2 - date1).days\n",
    "\n",
    "    return difference\n",
    "\n",
    "# Function to convert number of days to years\n",
    "def days_to_year(days):\n",
    "  return days/365\n",
    "\n",
    "## A basic logistic function - Used later to help derive time-decayed ratings\n",
    "def logistic(tu_c):\n",
    "    exponent = -tu_c\n",
    "    denominator = 1 + math.exp(exponent)\n",
    "    result = 1 / denominator\n",
    "    return result"
   ]
  },
  {
   "cell_type": "code",
   "execution_count": 6,
   "metadata": {},
   "outputs": [],
   "source": [
    "# Defining a couple of required dates to help derive time-weighted ratings\n",
    "# Purpose explained in future paragraphs below\n",
    "max_review_date = df['date'].max()\n",
    "min_review_date = df['date'].min()\n",
    "\n",
    "date_max = datetime.strptime(max_review_date, \"%Y-%m-%d\")\n",
    "date_min = datetime.strptime(min_review_date, \"%Y-%m-%d\")\n",
    "\n",
    "midpoint_date = (date_min + (date_max - date_min) / 2).strftime(\"%Y-%m-%d\")\n",
    "diff_max_midpoint = days_to_year(days_difference(max_review_date,midpoint_date))\n",
    "diff_min_midpoint = days_to_year(days_difference(min_review_date,midpoint_date))"
   ]
  },
  {
   "cell_type": "code",
   "execution_count": 7,
   "metadata": {},
   "outputs": [
    {
     "data": {
      "text/plain": [
       "'2003-02-28'"
      ]
     },
     "execution_count": 7,
     "metadata": {},
     "output_type": "execute_result"
    }
   ],
   "source": [
    "#Finding the \"maximum\"/latest date among all Movielens reviews\n",
    "max_review_date\n",
    "\n",
    "# date_max - Converts max_review_date to datetime format"
   ]
  },
  {
   "cell_type": "code",
   "execution_count": 8,
   "metadata": {},
   "outputs": [
    {
     "data": {
      "text/plain": [
       "'2000-04-25'"
      ]
     },
     "execution_count": 8,
     "metadata": {},
     "output_type": "execute_result"
    }
   ],
   "source": [
    "#Finding the \"minimum\"/earliest date among all Movielens reviews\n",
    "min_review_date\n",
    "\n",
    "# date_min - Converts min_review_date to datetime format"
   ]
  },
  {
   "cell_type": "code",
   "execution_count": 9,
   "metadata": {},
   "outputs": [
    {
     "data": {
      "text/plain": [
       "'2001-09-26'"
      ]
     },
     "execution_count": 9,
     "metadata": {},
     "output_type": "execute_result"
    }
   ],
   "source": [
    "#Find the middle date between max_review_date and min_review_date\n",
    "midpoint_date"
   ]
  },
  {
   "cell_type": "code",
   "execution_count": 10,
   "metadata": {},
   "outputs": [
    {
     "data": {
      "text/plain": [
       "1.4246575342465753"
      ]
     },
     "execution_count": 10,
     "metadata": {},
     "output_type": "execute_result"
    }
   ],
   "source": [
    "#Find the days difference between the maximum date and the midpoint date\n",
    "diff_max_midpoint"
   ]
  },
  {
   "cell_type": "code",
   "execution_count": 11,
   "metadata": {},
   "outputs": [
    {
     "data": {
      "text/plain": [
       "-1.4219178082191781"
      ]
     },
     "execution_count": 11,
     "metadata": {},
     "output_type": "execute_result"
    }
   ],
   "source": [
    "#Find the days difference between the minimum date and the midpoint date\n",
    "diff_min_midpoint"
   ]
  },
  {
   "cell_type": "code",
   "execution_count": 12,
   "metadata": {},
   "outputs": [],
   "source": [
    "#Function to help normalise the time(in years) of each rating from the midpoint_date\n",
    "#to the range [-1,1]\n",
    "#Used to transform the years from middle date into input into the logistic function\n",
    "def normalised(year,max_range_to_set=1,min_range_to_set=-1):\n",
    "  max = diff_max_midpoint\n",
    "  min = diff_min_midpoint\n",
    "  normalised_value = (  (max_range_to_set-min_range_to_set)*((year-min)/(max-min))  )  + min_range_to_set\n",
    "  return normalised_value"
   ]
  },
  {
   "cell_type": "code",
   "execution_count": 13,
   "metadata": {},
   "outputs": [],
   "source": [
    "# For each rating, find out the years this particular rating is rated from the midpoint_date\n",
    "df['years_from_midpoint'] = df.apply(lambda row: days_to_year(days_difference(row['date'],midpoint_date)),axis=1)\n",
    "\n",
    "# Normalised the years from midpoint date to a range [-1,1]\n",
    "df[\"normalised_year_from_midpoint\"] =  df.apply(lambda row: normalised(row['years_from_midpoint']),axis=1)\n",
    "\n",
    "# Calculate the time weight of the ratings\n",
    "df['time_weight'] = df.apply(lambda row: logistic(row['normalised_year_from_midpoint']),axis=1)\n",
    "\n",
    "# Weigh the ratings by its time weight to derive the time-weighted ratings\n",
    "df['time_weighted_rating'] = df['time_weight']*df['rating']\n"
   ]
  },
  {
   "cell_type": "code",
   "execution_count": 14,
   "metadata": {},
   "outputs": [
    {
     "data": {
      "image/png": "[encoded data removed]",
      "text/plain": [
       "<Figure size 640x480 with 1 Axes>"
      ]
     },
     "metadata": {},
     "output_type": "display_data"
    },
    {
     "data": {
      "text/plain": [
       "<Figure size 640x480 with 0 Axes>"
      ]
     },
     "metadata": {},
     "output_type": "display_data"
    }
   ],
   "source": [
    "tu_c_values = np.linspace(diff_min_midpoint, diff_max_midpoint, 100)\n",
    "\n",
    "normalised_values = [normalised(tu_c) for tu_c in tu_c_values]\n",
    "# Calculate logistic function for each tu_c value\n",
    "logistic_values = [logistic(n_v) for n_v in normalised_values]\n",
    "\n",
    "# Plot the logistic function that is normalised for better understanding\n",
    "plt.plot(tu_c_values, logistic_values)\n",
    "plt.title('Weights attached to each rating')\n",
    "plt.xlabel('Years elapsed from the midpoint date of all ratings')\n",
    "plt.ylabel('Weights')\n",
    "plt.grid(True)\n",
    "plt.show()\n",
    "\n",
    "#Save figure and data\n",
    "plt.savefig('time_weighted_rating_movielens1m.png')\n",
    "df.to_csv('./data/processed/time_weighted_rating_movielens1m.csv', index=False)\n"
   ]
  }
 ],
 "metadata": {
  "kernelspec": {
   "display_name": "base",
   "language": "python",
   "name": "python3"
  },
  "language_info": {
   "codemirror_mode": {
    "name": "ipython",
    "version": 3
   },
   "file_extension": ".py",
   "mimetype": "text/x-python",
   "name": "python",
   "nbconvert_exporter": "python",
   "pygments_lexer": "ipython3",
   "version": "3.10.13"
  }
 },
 "nbformat": 4,
 "nbformat_minor": 2
}
